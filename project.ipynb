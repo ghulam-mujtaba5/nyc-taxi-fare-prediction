{
 "cells": [
  {
   "cell_type": "code",
   "execution_count": 1,
   "id": "53724dc6",
   "metadata": {},
   "outputs": [],
   "source": [
    "# Imports\n",
    "import pandas as pd\n",
    "import numpy as np\n",
    "import matplotlib.pyplot as plt\n",
    "import seaborn as sns\n",
    "\n",
    "# For datetime conversion\n",
    "from datetime import datetime\n",
    "\n",
    "# For regression modeling\n",
    "import statsmodels.api as sm\n",
    "from sklearn.linear_model import LinearRegression\n",
    "from sklearn.model_selection import train_test_split\n",
    "from sklearn.metrics import mean_squared_error, r2_score\n",
    "\n",
    "# Load dataset\n",
    "df0 = pd.read_csv(\"2017_Yellow_Taxi_Trip_Data.csv\")\n"
   ]
  },
  {
   "cell_type": "code",
   "execution_count": 2,
   "id": "16b0ff8d",
   "metadata": {},
   "outputs": [
    {
     "name": "stdout",
     "output_type": "stream",
     "text": [
      "(22699, 18)\n",
      "<class 'pandas.core.frame.DataFrame'>\n",
      "RangeIndex: 22699 entries, 0 to 22698\n",
      "Data columns (total 18 columns):\n",
      " #   Column                 Non-Null Count  Dtype  \n",
      "---  ------                 --------------  -----  \n",
      " 0   Unnamed: 0             22699 non-null  int64  \n",
      " 1   VendorID               22699 non-null  int64  \n",
      " 2   tpep_pickup_datetime   22699 non-null  object \n",
      " 3   tpep_dropoff_datetime  22699 non-null  object \n",
      " 4   passenger_count        22699 non-null  int64  \n",
      " 5   trip_distance          22699 non-null  float64\n",
      " 6   RatecodeID             22699 non-null  int64  \n",
      " 7   store_and_fwd_flag     22699 non-null  object \n",
      " 8   PULocationID           22699 non-null  int64  \n",
      " 9   DOLocationID           22699 non-null  int64  \n",
      " 10  payment_type           22699 non-null  int64  \n",
      " 11  fare_amount            22699 non-null  float64\n",
      " 12  extra                  22699 non-null  float64\n",
      " 13  mta_tax                22699 non-null  float64\n",
      " 14  tip_amount             22699 non-null  float64\n",
      " 15  tolls_amount           22699 non-null  float64\n",
      " 16  improvement_surcharge  22699 non-null  float64\n",
      " 17  total_amount           22699 non-null  float64\n",
      "dtypes: float64(8), int64(7), object(3)\n",
      "memory usage: 3.1+ MB\n",
      "None\n",
      "Unnamed: 0               0\n",
      "VendorID                 0\n",
      "tpep_pickup_datetime     0\n",
      "tpep_dropoff_datetime    0\n",
      "passenger_count          0\n",
      "trip_distance            0\n",
      "RatecodeID               0\n",
      "store_and_fwd_flag       0\n",
      "PULocationID             0\n",
      "DOLocationID             0\n",
      "payment_type             0\n",
      "fare_amount              0\n",
      "extra                    0\n",
      "mta_tax                  0\n",
      "tip_amount               0\n",
      "tolls_amount             0\n",
      "improvement_surcharge    0\n",
      "total_amount             0\n",
      "dtype: int64\n",
      "Duplicates: 0\n",
      "         Unnamed: 0      VendorID  passenger_count  trip_distance  \\\n",
      "count  2.269900e+04  22699.000000     22699.000000   22699.000000   \n",
      "mean   5.675849e+07      1.556236         1.642319       2.913313   \n",
      "std    3.274493e+07      0.496838         1.285231       3.653171   \n",
      "min    1.212700e+04      1.000000         0.000000       0.000000   \n",
      "25%    2.852056e+07      1.000000         1.000000       0.990000   \n",
      "50%    5.673150e+07      2.000000         1.000000       1.610000   \n",
      "75%    8.537452e+07      2.000000         2.000000       3.060000   \n",
      "max    1.134863e+08      2.000000         6.000000      33.960000   \n",
      "\n",
      "         RatecodeID  PULocationID  DOLocationID  payment_type   fare_amount  \\\n",
      "count  22699.000000  22699.000000  22699.000000  22699.000000  22699.000000   \n",
      "mean       1.043394    162.412353    161.527997      1.336887     13.026629   \n",
      "std        0.708391     66.633373     70.139691      0.496211     13.243791   \n",
      "min        1.000000      1.000000      1.000000      1.000000   -120.000000   \n",
      "25%        1.000000    114.000000    112.000000      1.000000      6.500000   \n",
      "50%        1.000000    162.000000    162.000000      1.000000      9.500000   \n",
      "75%        1.000000    233.000000    233.000000      2.000000     14.500000   \n",
      "max       99.000000    265.000000    265.000000      4.000000    999.990000   \n",
      "\n",
      "              extra       mta_tax    tip_amount  tolls_amount  \\\n",
      "count  22699.000000  22699.000000  22699.000000  22699.000000   \n",
      "mean       0.333275      0.497445      1.835781      0.312542   \n",
      "std        0.463097      0.039465      2.800626      1.399212   \n",
      "min       -1.000000     -0.500000      0.000000      0.000000   \n",
      "25%        0.000000      0.500000      0.000000      0.000000   \n",
      "50%        0.000000      0.500000      1.350000      0.000000   \n",
      "75%        0.500000      0.500000      2.450000      0.000000   \n",
      "max        4.500000      0.500000    200.000000     19.100000   \n",
      "\n",
      "       improvement_surcharge  total_amount  \n",
      "count           22699.000000  22699.000000  \n",
      "mean                0.299551     16.310502  \n",
      "std                 0.015673     16.097295  \n",
      "min                -0.300000   -120.300000  \n",
      "25%                 0.300000      8.750000  \n",
      "50%                 0.300000     11.800000  \n",
      "75%                 0.300000     17.800000  \n",
      "max                 0.300000   1200.290000  \n"
     ]
    }
   ],
   "source": [
    "# Shape and Info\n",
    "print(df0.shape)\n",
    "print(df0.info())\n",
    "\n",
    "# Check missing and duplicates\n",
    "print(df0.isna().sum())\n",
    "print(f'Duplicates: {df0.duplicated().sum()}')\n",
    "\n",
    "# Descriptive statistics\n",
    "print(df0.describe())\n"
   ]
  },
  {
   "cell_type": "code",
   "execution_count": 3,
   "id": "e5f8bbba",
   "metadata": {},
   "outputs": [
    {
     "name": "stdout",
     "output_type": "stream",
     "text": [
      "     tpep_pickup_datetime   tpep_dropoff_datetime\n",
      "0   03/25/2017 8:55:43 AM   03/25/2017 9:09:47 AM\n",
      "1   04/11/2017 2:53:28 PM   04/11/2017 3:19:58 PM\n",
      "2   12/15/2017 7:26:56 AM   12/15/2017 7:34:08 AM\n",
      "3   05/07/2017 1:17:59 PM   05/07/2017 1:48:14 PM\n",
      "4  04/15/2017 11:32:20 PM  04/15/2017 11:49:03 PM\n"
     ]
    }
   ],
   "source": [
    "# Check format\n",
    "print(df0[['tpep_pickup_datetime', 'tpep_dropoff_datetime']].head())\n",
    "\n",
    "# Convert\n",
    "df0['tpep_pickup_datetime'] = pd.to_datetime(df0['tpep_pickup_datetime'])\n",
    "df0['tpep_dropoff_datetime'] = pd.to_datetime(df0['tpep_dropoff_datetime'])\n"
   ]
  },
  {
   "cell_type": "code",
   "execution_count": 4,
   "id": "c56e86fc",
   "metadata": {},
   "outputs": [],
   "source": [
    "df0['duration'] = (df0['tpep_dropoff_datetime'] - df0['tpep_pickup_datetime']).dt.total_seconds() / 60\n"
   ]
  },
  {
   "cell_type": "code",
   "execution_count": 5,
   "id": "1b96f185",
   "metadata": {},
   "outputs": [
    {
     "name": "stdout",
     "output_type": "stream",
     "text": [
      "       trip_distance   fare_amount      duration\n",
      "count   22699.000000  22699.000000  22699.000000\n",
      "mean        2.913313     13.026629     17.013777\n",
      "std         3.653171     13.243791     61.996482\n",
      "min         0.000000   -120.000000    -16.983333\n",
      "25%         0.990000      6.500000      6.650000\n",
      "50%         1.610000      9.500000     11.183333\n",
      "75%         3.060000     14.500000     18.383333\n",
      "max        33.960000    999.990000   1439.550000\n"
     ]
    },
    {
     "data": {
      "image/png": "[encoded data removed]",
      "text/plain": [
       "<Figure size 1500x500 with 3 Axes>"
      ]
     },
     "metadata": {},
     "output_type": "display_data"
    }
   ],
   "source": [
    "# Check relevant columns\n",
    "print(df0[['trip_distance', 'fare_amount', 'duration']].describe())\n",
    "\n",
    "# Box plots\n",
    "fig, axs = plt.subplots(1, 3, figsize=(15, 5))\n",
    "sns.boxplot(x=df0['trip_distance'], ax=axs[0])\n",
    "sns.boxplot(x=df0['fare_amount'], ax=axs[1])\n",
    "sns.boxplot(x=df0['duration'], ax=axs[2])\n",
    "axs[0].set_title(\"Trip Distance\")\n",
    "axs[1].set_title(\"Fare Amount\")\n",
    "axs[2].set_title(\"Duration\")\n",
    "plt.tight_layout()\n",
    "plt.show()\n"
   ]
  },
  {
   "cell_type": "code",
   "execution_count": 6,
   "id": "70bb6b8a",
   "metadata": {},
   "outputs": [
    {
     "name": "stdout",
     "output_type": "stream",
     "text": [
      "[0.0, 0.01, 0.02, 0.03, 0.04, 0.05, 0.06, 0.07, 0.08, 0.09]\n",
      "148\n"
     ]
    }
   ],
   "source": [
    "# Check smallest unique distances\n",
    "print(sorted(df0['trip_distance'].unique())[:10])\n",
    "\n",
    "# Count of zero distances\n",
    "print((df0['trip_distance'] == 0).sum())\n"
   ]
  },
  {
   "cell_type": "code",
   "execution_count": 7,
   "id": "829d05b4",
   "metadata": {},
   "outputs": [],
   "source": [
    "# Negative fare amounts\n",
    "df0.loc[df0['fare_amount'] < 0, 'fare_amount'] = 0\n",
    "\n",
    "# Impute upper outliers\n",
    "Q1 = df0['fare_amount'].quantile(0.25)\n",
    "Q3 = df0['fare_amount'].quantile(0.75)\n",
    "IQR = Q3 - Q1\n",
    "upper_threshold = Q3 + 6 * IQR\n",
    "df0.loc[df0['fare_amount'] > upper_threshold, 'fare_amount'] = upper_threshold\n"
   ]
  },
  {
   "cell_type": "code",
   "execution_count": 8,
   "id": "eb8ae471",
   "metadata": {},
   "outputs": [],
   "source": [
    "# Negative durations\n",
    "df0.loc[df0['duration'] < 0, 'duration'] = 0\n",
    "\n",
    "# High duration outliers\n",
    "Q1_d = df0['duration'].quantile(0.25)\n",
    "Q3_d = df0['duration'].quantile(0.75)\n",
    "IQR_d = Q3_d - Q1_d\n",
    "upper_threshold_d = Q3_d + 6 * IQR_d\n",
    "df0.loc[df0['duration'] > upper_threshold_d, 'duration'] = upper_threshold_d\n"
   ]
  },
  {
   "cell_type": "code",
   "execution_count": 9,
   "id": "8fe900e5",
   "metadata": {},
   "outputs": [],
   "source": [
    "# Create pickup_dropoff\n",
    "df0['pickup_dropoff'] = df0['PULocationID'].astype(str) + \" \" + df0['DOLocationID'].astype(str)\n",
    "\n",
    "# Group and calculate mean\n",
    "grouped = df0.groupby('pickup_dropoff')['trip_distance'].mean()\n",
    "grouped_dict = grouped.to_dict()\n",
    "\n",
    "# Map to new column\n",
    "df0['mean_distance'] = df0['pickup_dropoff'].map(grouped_dict)\n"
   ]
  }
 ],
 "metadata": {
  "kernelspec": {
   "display_name": "base",
   "language": "python",
   "name": "python3"
  },
  "language_info": {
   "codemirror_mode": {
    "name": "ipython",
    "version": 3
   },
   "file_extension": ".py",
   "mimetype": "text/x-python",
   "name": "python",
   "nbconvert_exporter": "python",
   "pygments_lexer": "ipython3",
   "version": "3.12.7"
  }
 },
 "nbformat": 4,
 "nbformat_minor": 5
}
